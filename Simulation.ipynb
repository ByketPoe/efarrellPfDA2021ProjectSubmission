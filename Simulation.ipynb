{
 "cells": [
  {
   "cell_type": "markdown",
   "id": "e8775802-629b-4d67-bf2e-8bac03aadf46",
   "metadata": {},
   "source": [
    "# Simulation Project\n",
    "The following health data was collected for one person  :\n",
    "1. Date\n",
    "2. Weight change\n",
    "3. Calorie deficit (calories consumed minus calories burned)\n",
    "4. Sleep duration\n",
    "\n",
    "The data was collected using a combination of FitBit data and data from MyFitnessPal. "
   ]
  },
  {
   "cell_type": "markdown",
   "id": "145914e6-a8d4-4834-a3de-4f6fd4c6cf08",
   "metadata": {},
   "source": [
    "This notebook aims to analyse this data to characterise it to enable the data to be simulated. A simulation will then be carried out."
   ]
  },
  {
   "cell_type": "code",
   "execution_count": 1,
   "id": "5cc8f6e9-68cd-480b-9ee1-59095b5c18e9",
   "metadata": {},
   "outputs": [],
   "source": [
    "import pandas as pd\n",
    "import numpy as np\n",
    "import matplotlib.pyplot as plt"
   ]
  },
  {
   "cell_type": "code",
   "execution_count": 2,
   "id": "da329035-cd65-4754-b67f-7b40381bb7cc",
   "metadata": {},
   "outputs": [],
   "source": [
    "# The data is saved locally in a CSV file.\n",
    "# The data is imported and saved to a pandas dataframe. \n",
    "\n",
    "df = pd.read_csv('Raw_data.csv')"
   ]
  },
  {
   "cell_type": "markdown",
   "id": "69702a4d-4664-4f98-bbd8-daf0c1063137",
   "metadata": {},
   "source": [
    "## Data Analysis"
   ]
  },
  {
   "cell_type": "markdown",
   "id": "7ae2bd19-2c76-4685-85d5-bd1b428d9e8e",
   "metadata": {},
   "source": [
    "### Weight data"
   ]
  },
  {
   "cell_type": "code",
   "execution_count": 3,
   "id": "70b5132c-bdf3-4dbc-8cb6-f3c6ae724dd0",
   "metadata": {},
   "outputs": [],
   "source": [
    "# The weight data is obtained and saved as a dataframe for analysis\n",
    "dfweight_delta = df['Weight_change_kg']"
   ]
  },
  {
   "cell_type": "code",
   "execution_count": 4,
   "id": "95cb5420-36f0-43fa-9445-786b92b937f2",
   "metadata": {},
   "outputs": [
    {
     "data": {
      "text/plain": [
       "count    188.000000\n",
       "mean      -4.585106\n",
       "std        2.245564\n",
       "min       -8.100000\n",
       "25%       -6.500000\n",
       "50%       -4.850000\n",
       "75%       -2.400000\n",
       "max       -0.300000\n",
       "Name: Weight_change_kg, dtype: float64"
      ]
     },
     "execution_count": 4,
     "metadata": {},
     "output_type": "execute_result"
    }
   ],
   "source": [
    "# The summary statistics of the weight data are obtained\n",
    "dfweight_delta.describe()"
   ]
  },
  {
   "cell_type": "code",
   "execution_count": 5,
   "id": "e41d7558-bcb0-4918-8eda-4eadebe483c9",
   "metadata": {},
   "outputs": [
    {
     "data": {
      "text/plain": [
       "(array([24., 22., 25., 20., 15., 13., 17., 25., 19.,  8.]),\n",
       " array([-8.1 , -7.32, -6.54, -5.76, -4.98, -4.2 , -3.42, -2.64, -1.86,\n",
       "        -1.08, -0.3 ]),\n",
       " <BarContainer object of 10 artists>)"
      ]
     },
     "execution_count": 5,
     "metadata": {},
     "output_type": "execute_result"
    },
    {
     "data": {
      "image/png": "[encoded data removed]",
      "text/plain": [
       "<Figure size 432x288 with 1 Axes>"
      ]
     },
     "metadata": {
      "needs_background": "light"
     },
     "output_type": "display_data"
    }
   ],
   "source": [
    "# The weight data is plotted on a histogram to determine the distribution of the data. \n",
    "plt.hist(dfweight_delta)"
   ]
  },
  {
   "cell_type": "markdown",
   "id": "a8eddac8-7be8-4e4e-b96c-cd3a1d62ca42",
   "metadata": {},
   "source": [
    "The weight data resembles a uniform distribution. \n",
    "After the analysis above, it is decided that when it is randomly generated, the range will be between -8.1 and -0.3, have a mean of -4.59 and standard deviation 2.25 and be uniformly distributed. "
   ]
  },
  {
   "cell_type": "markdown",
   "id": "239113c7-a669-48b0-bcd6-d3032efac4c2",
   "metadata": {},
   "source": [
    "### Calorie data"
   ]
  },
  {
   "cell_type": "code",
   "execution_count": 6,
   "id": "1afd9b80-03c8-492b-ad07-fb2b953c227d",
   "metadata": {},
   "outputs": [],
   "source": [
    "# The calorie data is obtained and saved as a dataframe for analysis\n",
    "dfcalorie_deficit = df['Calorie_deficit']"
   ]
  },
  {
   "cell_type": "code",
   "execution_count": 7,
   "id": "e37c659a-62e1-4ad9-862c-5c1a390bf4c0",
   "metadata": {},
   "outputs": [
    {
     "data": {
      "text/plain": [
       "count     188.000000\n",
       "mean      249.250000\n",
       "std       298.711916\n",
       "min     -1034.000000\n",
       "25%        68.000000\n",
       "50%       294.000000\n",
       "75%       436.500000\n",
       "max       805.000000\n",
       "Name: Calorie_deficit, dtype: float64"
      ]
     },
     "execution_count": 7,
     "metadata": {},
     "output_type": "execute_result"
    }
   ],
   "source": [
    "# The summary statistics of the calorie data are obtained\n",
    "dfcalorie_deficit.describe()"
   ]
  },
  {
   "cell_type": "code",
   "execution_count": 8,
   "id": "b17f6eff-0bae-462d-8108-b5865a2e88d6",
   "metadata": {},
   "outputs": [
    {
     "data": {
      "text/plain": [
       "(array([ 3.,  1.,  0.,  2., 11., 31., 33., 60., 36., 11.]),\n",
       " array([-1034. ,  -850.1,  -666.2,  -482.3,  -298.4,  -114.5,    69.4,\n",
       "          253.3,   437.2,   621.1,   805. ]),\n",
       " <BarContainer object of 10 artists>)"
      ]
     },
     "execution_count": 8,
     "metadata": {},
     "output_type": "execute_result"
    },
    {
     "data": {
      "image/png": "[encoded data removed]",
      "text/plain": [
       "<Figure size 432x288 with 1 Axes>"
      ]
     },
     "metadata": {
      "needs_background": "light"
     },
     "output_type": "display_data"
    }
   ],
   "source": [
    "# The calorie data is plotted on a histogram to determine the distribution of the data. \n",
    "plt.hist(dfcalorie_deficit)"
   ]
  },
  {
   "cell_type": "markdown",
   "id": "0d499fc5-d114-4645-9dce-3878264857d4",
   "metadata": {},
   "source": [
    "The calorie data can be approximated to be a normal distribution. \n",
    "After the analysis above, it is decided that when it is randomly generated, the range will be between -1034 and 805, have a mean of 249.25 and standard deviation 298.71 and be normally distributed. "
   ]
  },
  {
   "cell_type": "markdown",
   "id": "b3f86bef-4f8d-4527-a029-e30cd4d93347",
   "metadata": {},
   "source": [
    "### Sleep data"
   ]
  },
  {
   "cell_type": "code",
   "execution_count": 9,
   "id": "11ad1d10-212e-4300-b1b7-17cb1f0904ee",
   "metadata": {},
   "outputs": [
    {
     "data": {
      "text/plain": [
       "0      06:50:00\n",
       "1      07:04:00\n",
       "2      06:27:00\n",
       "3      07:27:00\n",
       "4      06:31:00\n",
       "         ...   \n",
       "183    06:43:00\n",
       "184    06:44:00\n",
       "185    06:14:00\n",
       "186    04:50:00\n",
       "187    06:16:00\n",
       "Name: Sleep_duration, Length: 188, dtype: object"
      ]
     },
     "execution_count": 9,
     "metadata": {},
     "output_type": "execute_result"
    }
   ],
   "source": [
    "# The sleep data is obtained and saved as a dataframe for analysis\n",
    "dfsleep = df['Sleep_duration']\n",
    "dfsleep"
   ]
  },
  {
   "cell_type": "code",
   "execution_count": 10,
   "id": "b9765f61-e348-42a4-81f2-7817ca714274",
   "metadata": {},
   "outputs": [
    {
     "data": {
      "text/plain": [
       "(array([28., 24., 20., 24., 19., 17., 15., 16., 12., 13.]),\n",
       " array([  0. ,  11.5,  23. ,  34.5,  46. ,  57.5,  69. ,  80.5,  92. ,\n",
       "        103.5, 115. ]),\n",
       " <BarContainer object of 10 artists>)"
      ]
     },
     "execution_count": 10,
     "metadata": {},
     "output_type": "execute_result"
    },
    {
     "data": {
      "image/png": "[encoded data removed]",
      "text/plain": [
       "<Figure size 432x288 with 1 Axes>"
      ]
     },
     "metadata": {
      "needs_background": "light"
     },
     "output_type": "display_data"
    }
   ],
   "source": [
    "# The sleep data is plotted on a histogram to determine the distribution of the data. \n",
    "plt.hist(dfsleep)"
   ]
  },
  {
   "cell_type": "code",
   "execution_count": 11,
   "id": "fd12e54a-5cf2-428e-9383-1aa39111495c",
   "metadata": {},
   "outputs": [
    {
     "data": {
      "text/plain": [
       "0     0 days 06:50:00\n",
       "1     0 days 07:04:00\n",
       "2     0 days 06:27:00\n",
       "3     0 days 07:27:00\n",
       "4     0 days 06:31:00\n",
       "            ...      \n",
       "183   0 days 06:43:00\n",
       "184   0 days 06:44:00\n",
       "185   0 days 06:14:00\n",
       "186   0 days 04:50:00\n",
       "187   0 days 06:16:00\n",
       "Name: Sleep_duration, Length: 188, dtype: timedelta64[ns]"
      ]
     },
     "execution_count": 11,
     "metadata": {},
     "output_type": "execute_result"
    }
   ],
   "source": [
    "# The sleep data is converted to time duration data type using the pandas function .to_timedelta()\n",
    "dfsleep = pd.to_timedelta(dfsleep)\n",
    "dfsleep"
   ]
  },
  {
   "cell_type": "code",
   "execution_count": 12,
   "id": "bd87f65c-bbe3-4f9d-9fbc-36dbf6441bcf",
   "metadata": {},
   "outputs": [
    {
     "data": {
      "text/plain": [
       "count                          188\n",
       "mean     0 days 06:47:37.021276595\n",
       "std      0 days 00:48:33.331272126\n",
       "min                0 days 03:40:00\n",
       "25%                0 days 06:22:00\n",
       "50%                0 days 06:50:30\n",
       "75%                0 days 07:22:45\n",
       "max                0 days 08:47:00\n",
       "Name: Sleep_duration, dtype: object"
      ]
     },
     "execution_count": 12,
     "metadata": {},
     "output_type": "execute_result"
    }
   ],
   "source": [
    "# The summary statistics of the sleep data are obtained\n",
    "dfsleep.describe()"
   ]
  },
  {
   "cell_type": "markdown",
   "id": "d09504a1-c6d3-4679-86a2-2e893d01b4cd",
   "metadata": {},
   "source": [
    "The calorie data can be approximated to be a linear distribution. \n",
    "After the analysis above, it is decided that when it is randomly generated, the range will be between 03:40 and 08:47, have a mean of 06:48 and standard deviation 00:48 and be linearly distributed. "
   ]
  },
  {
   "cell_type": "markdown",
   "id": "7301f085-d09d-4644-8b4c-57020359f531",
   "metadata": {},
   "source": [
    "## Data Simulation"
   ]
  },
  {
   "cell_type": "code",
   "execution_count": 13,
   "id": "b5971508-8ec3-44bb-9d69-92c0d377a8f9",
   "metadata": {},
   "outputs": [
    {
     "data": {
      "text/plain": [
       "(array([13., 17., 20., 16., 21., 13., 25., 25., 22., 28.]),\n",
       " array([-8.06900435, -7.2928732 , -6.51674205, -5.7406109 , -4.96447974,\n",
       "        -4.18834859, -3.41221744, -2.63608629, -1.85995513, -1.08382398,\n",
       "        -0.30769283]),\n",
       " <BarContainer object of 10 artists>)"
      ]
     },
     "execution_count": 13,
     "metadata": {},
     "output_type": "execute_result"
    },
    {
     "data": {
      "image/png": "[encoded data removed]",
      "text/plain": [
       "<Figure size 432x288 with 1 Axes>"
      ]
     },
     "metadata": {
      "needs_background": "light"
     },
     "output_type": "display_data"
    }
   ],
   "source": [
    "# An array of weight data is generated. \n",
    "simweight_arr = np.random.uniform(low=-8.1,high=-0.3,size=200)\n",
    "simweight_arr\n",
    "plt.hist(simweight_arr)\n"
   ]
  },
  {
   "cell_type": "markdown",
   "id": "f68fcbfd-da04-43da-9a38-84cb5e668d4b",
   "metadata": {},
   "source": [
    "-1034 and 805, have a mean of 249.25 and standard deviation 298.71"
   ]
  },
  {
   "cell_type": "code",
   "execution_count": 14,
   "id": "6c6d9700-da74-44d4-ab1d-a43036bb6ffe",
   "metadata": {},
   "outputs": [
    {
     "data": {
      "text/plain": [
       "(array([ 9.,  9., 26., 39., 32., 32., 26., 20.,  6.,  1.]),\n",
       " array([-466.3312854 , -311.3608685 , -156.3904516 ,   -1.4200347 ,\n",
       "         153.55038219,  308.52079909,  463.49121599,  618.46163289,\n",
       "         773.43204979,  928.40246669, 1083.37288359]),\n",
       " <BarContainer object of 10 artists>)"
      ]
     },
     "execution_count": 14,
     "metadata": {},
     "output_type": "execute_result"
    },
    {
     "data": {
      "image/png": "[encoded data removed]",
      "text/plain": [
       "<Figure size 432x288 with 1 Axes>"
      ]
     },
     "metadata": {
      "needs_background": "light"
     },
     "output_type": "display_data"
    }
   ],
   "source": [
    "# An array of calorie data is generated. \n",
    "simcalorie_arr = np.random.normal(loc=249.25,scale=298.71,size=200)\n",
    "simcalorie_arr\n",
    "plt.hist(simcalorie_arr)"
   ]
  }
 ],
 "metadata": {
  "kernelspec": {
   "display_name": "Python 3",
   "language": "python",
   "name": "python3"
  },
  "language_info": {
   "codemirror_mode": {
    "name": "ipython",
    "version": 3
   },
   "file_extension": ".py",
   "mimetype": "text/x-python",
   "name": "python",
   "nbconvert_exporter": "python",
   "pygments_lexer": "ipython3",
   "version": "3.8.8"
  }
 },
 "nbformat": 4,
 "nbformat_minor": 5
}
